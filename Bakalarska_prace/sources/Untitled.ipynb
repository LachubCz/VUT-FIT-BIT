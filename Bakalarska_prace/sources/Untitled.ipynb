{
 "cells": [
  {
   "cell_type": "code",
   "execution_count": 1,
   "metadata": {},
   "outputs": [
    {
     "name": "stderr",
     "output_type": "stream",
     "text": [
      "Using TensorFlow backend.\n"
     ]
    },
    {
     "name": "stdout",
     "output_type": "stream",
     "text": [
      "_________________________________________________________________\n",
      "Layer (type)                 Output Shape              Param #   \n",
      "=================================================================\n",
      "input_1 (InputLayer)         (None, 2, 84, 84)         0         \n",
      "_________________________________________________________________\n",
      "conv2d_1 (Conv2D)            (None, 32, 20, 20)        4128      \n",
      "_________________________________________________________________\n",
      "conv2d_2 (Conv2D)            (None, 15, 9, 64)         20544     \n",
      "_________________________________________________________________\n",
      "conv2d_3 (Conv2D)            (None, 13, 7, 64)         36928     \n",
      "_________________________________________________________________\n",
      "flatten_1 (Flatten)          (None, 5824)              0         \n",
      "_________________________________________________________________\n",
      "dense_1 (Dense)              (None, 512)               2982400   \n",
      "_________________________________________________________________\n",
      "dense_2 (Dense)              (None, 6)                 3078      \n",
      "=================================================================\n",
      "Total params: 3,047,078\n",
      "Trainable params: 3,047,078\n",
      "Non-trainable params: 0\n",
      "_________________________________________________________________\n",
      "_________________________________________________________________\n",
      "Layer (type)                 Output Shape              Param #   \n",
      "=================================================================\n",
      "input_2 (InputLayer)         (None, 4, 84, 84)         0         \n",
      "_________________________________________________________________\n",
      "conv2d_4 (Conv2D)            (None, 32, 20, 20)        8224      \n",
      "_________________________________________________________________\n",
      "conv2d_5 (Conv2D)            (None, 15, 9, 64)         20544     \n",
      "_________________________________________________________________\n",
      "conv2d_6 (Conv2D)            (None, 13, 7, 64)         36928     \n",
      "_________________________________________________________________\n",
      "flatten_2 (Flatten)          (None, 5824)              0         \n",
      "_________________________________________________________________\n",
      "dense_3 (Dense)              (None, 512)               2982400   \n",
      "_________________________________________________________________\n",
      "dense_4 (Dense)              (None, 6)                 3078      \n",
      "=================================================================\n",
      "Total params: 3,051,174\n",
      "Trainable params: 3,051,174\n",
      "Non-trainable params: 0\n",
      "_________________________________________________________________\n"
     ]
    },
    {
     "data": {
      "text/plain": [
       "'\\nBeamRider_weights2[1] = BeamRider_weights\\nBeamRider_weights2[2] = BeamRider_weights\\nBeamRider_weights2[3] = BeamRider_weights\\nBeamRider_weights2[4] = BeamRider_weights\\nBeamRider_weights2[5] = BeamRider_weights\\nBeamRider_weights2[6] = BeamRider_weights\\nBeamRider_weights2[7] = BeamRider_weights\\nBeamRider_weights2[8] = BeamRider_weights\\nBeamRider_weights2[9] = BeamRider_weights\\n'"
      ]
     },
     "execution_count": 1,
     "metadata": {},
     "output_type": "execute_result"
    }
   ],
   "source": [
    "from network import Network as network\n",
    "from agent import Agent as agent\n",
    "\n",
    "#BeamRider = network.make_bsc_img_mdl((2,84,84), 9, 0.00025)\n",
    "#BeamRider = network.make_bsc_img_mdl((2,84,84), 4, 0.00025)\n",
    "BeamRider = network.make_bsc_img_mdl((2,84,84), 6, 0.00025)\n",
    "\n",
    "#BeamRider.load_weights(\"model-BeamRider-v0-3475.h5\")\n",
    "#BeamRider.load_weights(\"model-Breakout-v0-19475.h5\")\n",
    "BeamRider.load_weights(\"model-SpaceInvaders-v0-7975.h5\")\n",
    "\n",
    "#BeamRider_weights = BeamRider.get_weights()\n",
    "#Breakout_weights = Breakout.get_weights()\n",
    "#SpaceInvaders_weights = SpaceInvaders.get_weights()\n",
    "\n",
    "#BeamRider2 = network.make_bsc_img_mdl((4,84,84), 9, 0.00025)\n",
    "#BeamRider2 = network.make_bsc_img_mdl((4,84,84), 4, 0.00025)\n",
    "BeamRider2 = network.make_bsc_img_mdl((4,84,84), 6, 0.00025)\n",
    "\n",
    "#BeamRider_weights2 = BeamRider2.get_weights()\n",
    "#Breakout_weights2 = Breakout2.get_weights()\n",
    "#SpaceInvaders_weights2 = SpaceInvaders2.get_weights()\n",
    "\n",
    "\n",
    "\n",
    "#print(type(BeamRider_weights), len(BeamRider_weights),len(BeamRider_weights[0]))\n",
    "#print(\"First\")\n",
    "#print(BeamRider.get_layer(\"conv2d_2\").get_weights())\n",
    "\n",
    "weights1 = BeamRider.get_layer(\"conv2d_2\").get_weights()\n",
    "weights2 = BeamRider.get_layer(\"conv2d_3\").get_weights()\n",
    "weights3 = BeamRider.get_layer(\"flatten_1\").get_weights()\n",
    "weights4 = BeamRider.get_layer(\"dense_1\").get_weights()\n",
    "weights5 = BeamRider.get_layer(\"dense_2\").get_weights()\n",
    "\n",
    "\n",
    "BeamRider2.get_layer(\"conv2d_5\").set_weights(weights1)\n",
    "BeamRider2.get_layer(\"conv2d_6\").set_weights(weights2)\n",
    "BeamRider2.get_layer(\"flatten_2\").set_weights(weights3)\n",
    "BeamRider2.get_layer(\"dense_3\").set_weights(weights4)\n",
    "BeamRider2.get_layer(\"dense_4\").set_weights(weights5)\n",
    "\n",
    "BeamRider2.save_weights(\"./SpaceInvaders_ready.h5\")\n",
    "\n",
    "#print(\"Second\")\n",
    "#print(BeamRider2.get_layer(\"conv2d_5\").get_weights())\n",
    "\n",
    "#print(type(BeamRider_weights2), len(BeamRider_weights2),len(BeamRider_weights2[0]))\n",
    "\"\"\"\n",
    "BeamRider_weights2[1] = BeamRider_weights\n",
    "BeamRider_weights2[2] = BeamRider_weights\n",
    "BeamRider_weights2[3] = BeamRider_weights\n",
    "BeamRider_weights2[4] = BeamRider_weights\n",
    "BeamRider_weights2[5] = BeamRider_weights\n",
    "BeamRider_weights2[6] = BeamRider_weights\n",
    "BeamRider_weights2[7] = BeamRider_weights\n",
    "BeamRider_weights2[8] = BeamRider_weights\n",
    "BeamRider_weights2[9] = BeamRider_weights\n",
    "\"\"\"\n",
    "#BeamRider2.load_weights(BeamRider_weights2)\n",
    "\n",
    "#print(BeamRider_weights)"
   ]
  },
  {
   "cell_type": "code",
   "execution_count": null,
   "metadata": {},
   "outputs": [],
   "source": [
    "from network import Network as network\n",
    "from agent import Agent as agent\n",
    "\n",
    "BeamRider2 = network.make_bsc_img_mdl((4,84,84), 9, 0.00025)\n",
    "BeamRider2 = network.make_bsc_img_mdl((4,84,84), 4, 0.00025)\n",
    "BeamRider2 = network.make_bsc_img_mdl((4,84,84), 6, 0.00025)\n",
    "\n",
    "BeamRider.load_weights(\"model-BeamRider-v0-3475.h5\")\n",
    "BeamRider.load_weights(\"model-Breakout-v0-19475.h5\")\n",
    "BeamRider.load_weights(\"model-SpaceInvaders-v0-7975.h5\")"
   ]
  }
 ],
 "metadata": {
  "kernelspec": {
   "display_name": "Python 3",
   "language": "python",
   "name": "python3"
  },
  "language_info": {
   "codemirror_mode": {
    "name": "ipython",
    "version": 3
   },
   "file_extension": ".py",
   "mimetype": "text/x-python",
   "name": "python",
   "nbconvert_exporter": "python",
   "pygments_lexer": "ipython3",
   "version": "3.6.4"
  }
 },
 "nbformat": 4,
 "nbformat_minor": 2
}
