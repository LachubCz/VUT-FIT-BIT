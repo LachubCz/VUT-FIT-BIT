{
 "cells": [
  {
   "cell_type": "code",
   "execution_count": 1,
   "metadata": {},
   "outputs": [
    {
     "ename": "SyntaxError",
     "evalue": "invalid syntax (<ipython-input-1-1ec96b750359>, line 10)",
     "output_type": "error",
     "traceback": [
      "\u001b[1;36m  File \u001b[1;32m\"<ipython-input-1-1ec96b750359>\"\u001b[1;36m, line \u001b[1;32m10\u001b[0m\n\u001b[1;33m    matching_perms =  # vase reseni\u001b[0m\n\u001b[1;37m                                   ^\u001b[0m\n\u001b[1;31mSyntaxError\u001b[0m\u001b[1;31m:\u001b[0m invalid syntax\n"
     ]
    }
   ],
   "source": [
    "#!/usr/bin/env python3\n",
    "\n",
    "from itertools import permutations\n",
    "\n",
    "def match_permutations(string, words):\n",
    "    # permutations as a set\n",
    "    # {'tac', 'act', 'atc', 'tca', 'cat', 'cta'}\n",
    "    perms = set(map(''.join, permutations(string)))\n",
    "    # sorted list of matching strings\n",
    "    matching_perms =  \"sample\"# vase reseni\n",
    "    return matching_perms\n",
    "\n",
    "def plur2sing(singular, plural):\n",
    "    # {'goose':'geese', 'man':'men', 'child':'children'}\n",
    "    sg2pl = {s: p for s, p in zip(singular, plural)}\n",
    "    # inversion using zip\n",
    "    pl2sg =  \"sample\"# vase reseni\n",
    "    return pl2sg\n",
    "\n",
    "def vect2word(word2vect):\n",
    "    print(word2vect)\n",
    "    v2w =  # vase reseni\n",
    "    return v2w\n",
    "\n",
    "\n",
    "def test():\n",
    "    #assert match_permutations('act', {'cat', 'rat', 'dog', 'act'}) == ['act', 'cat']\n",
    "    #assert plur2sing(['goose', 'man', 'child'], ['geese', 'men', 'children']) == {'geese': 'goose', 'men': 'man', 'children': 'child'}\n",
    "    #assert sum(k[1] for k in vect2word({'king': [3, 1], 'queen': [6, 3], 'uncle': [4, 3], 'aunt': [8, 9]})) == 16\n",
    "    sum(k[1] for k in vect2word({'king': [3, 1], 'queen': [6, 3], 'uncle': [4, 3], 'aunt': [8, 9]}))\n",
    "\n",
    "if __name__ == '__main__':\n",
    "    test()"
   ]
  }
 ],
 "metadata": {
  "kernelspec": {
   "display_name": "Python 3",
   "language": "python",
   "name": "python3"
  },
  "language_info": {
   "codemirror_mode": {
    "name": "ipython",
    "version": 3
   },
   "file_extension": ".py",
   "mimetype": "text/x-python",
   "name": "python",
   "nbconvert_exporter": "python",
   "pygments_lexer": "ipython3",
   "version": "3.5.4"
  }
 },
 "nbformat": 4,
 "nbformat_minor": 2
}
