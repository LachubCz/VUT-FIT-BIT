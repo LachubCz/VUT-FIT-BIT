{
 "cells": [
  {
   "cell_type": "code",
   "execution_count": 37,
   "metadata": {},
   "outputs": [
    {
     "name": "stdout",
     "output_type": "stream",
     "text": [
      "[[1, 4, 4], [2, 8, 8]]\n",
      "[1, 6, 12, 8, 0]\n"
     ]
    }
   ],
   "source": [
    "array = [1,2]\n",
    "\n",
    "def power(pol1, pol2):\n",
    "    matrix = []\n",
    "    \n",
    "    for i in range(len(pol2)):\n",
    "        matrix.append([])\n",
    "    for i, item in enumerate(pol2):\n",
    "        for e, elem in enumerate(pol1):\n",
    "            matrix[i].append(item * elem)\n",
    "    \n",
    "    result = []\n",
    "    for i in range((len(matrix[0])*2)-1):\n",
    "        result.append(0)\n",
    "        \n",
    "    for i, item in enumerate(matrix):\n",
    "        for e, elem in enumerate(item):\n",
    "            result[i + e] = result[i + e] + elem\n",
    "\n",
    "    print(matrix)\n",
    "    print(result)\n",
    "        \n",
    "power([1,4,4], [1,2])\n",
    "\n",
    "def fuck():\n",
    "    array1 = []\n",
    "    array1.append([])\n",
    "    array1.append([])\n",
    "    print(array1)\n",
    "    array = [[1,2],[4,45,7]]\n",
    "    array[0].append(4)\n",
    "    print(array)"
   ]
  }
 ],
 "metadata": {
  "kernelspec": {
   "display_name": "Python 3",
   "language": "python",
   "name": "python3"
  },
  "language_info": {
   "codemirror_mode": {
    "name": "ipython",
    "version": 3
   },
   "file_extension": ".py",
   "mimetype": "text/x-python",
   "name": "python",
   "nbconvert_exporter": "python",
   "pygments_lexer": "ipython3",
   "version": "3.6.4"
  }
 },
 "nbformat": 4,
 "nbformat_minor": 2
}
