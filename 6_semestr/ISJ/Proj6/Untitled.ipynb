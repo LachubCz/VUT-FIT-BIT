{
 "cells": [
  {
   "cell_type": "code",
   "execution_count": 33,
   "metadata": {},
   "outputs": [
    {
     "name": "stdout",
     "output_type": "stream",
     "text": [
      "None\n"
     ]
    }
   ],
   "source": [
    "def first_nonrepeating(string):\n",
    "    parsed = list(string)\n",
    "    unique = []\n",
    "    duplicate = []\n",
    "    result = []\n",
    "\n",
    "    for i in parsed:\n",
    "        if i not in unique:\n",
    "            unique.append(i)\n",
    "        else:\n",
    "            duplicate.append(i)\n",
    "\n",
    "    result = list(unique)\n",
    "\n",
    "    for i, item in enumerate(unique):\n",
    "        for e, elem in enumerate(duplicate):\n",
    "            if elem == item:\n",
    "                result.remove(elem)\n",
    "\n",
    "    if result == []:\n",
    "        return None\n",
    "    else:\n",
    "        return result[0]\n",
    "    \n",
    "print(first_nonrepeating(\"lool\"))\n",
    "\n",
    "def combine4():\n",
    "    \n"
   ]
  }
 ],
 "metadata": {
  "kernelspec": {
   "display_name": "Python 3",
   "language": "python",
   "name": "python3"
  },
  "language_info": {
   "codemirror_mode": {
    "name": "ipython",
    "version": 3
   },
   "file_extension": ".py",
   "mimetype": "text/x-python",
   "name": "python",
   "nbconvert_exporter": "python",
   "pygments_lexer": "ipython3",
   "version": "3.6.4"
  }
 },
 "nbformat": 4,
 "nbformat_minor": 2
}
