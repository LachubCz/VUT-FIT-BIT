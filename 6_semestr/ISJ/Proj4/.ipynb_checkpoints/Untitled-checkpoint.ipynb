{
 "cells": [
  {
   "cell_type": "code",
   "execution_count": 44,
   "metadata": {
    "scrolled": true
   },
   "outputs": [
    {
     "name": "stdout",
     "output_type": "stream",
     "text": [
      "['a', 'b', 'c']\n",
      "vysledek:  [[['a', 'b']], ['c'], [['a', 'b'], 'c']]\n"
     ]
    }
   ],
   "source": [
    "#!/usr/bin/env python3\n",
    "\n",
    "def can_be_a_set_member_or_frozenset(item):\n",
    "    \"\"\"\n",
    "    vrati vstupni polozku item, \n",
    "    pokud tato muze byt prvkem mnoziny v Pythonu, \n",
    "    v opacnem pripade frozenset(item)\n",
    "    \"\"\"\n",
    "    a = set() #vytvoreni mnoziny\n",
    "    try: #pokus o vlozeni itemu do mnoziny\n",
    "        a.add(item)\n",
    "        return(item)\n",
    "    except: #pokud nelze vlozit vrati se frozenset(item)\n",
    "        return frozenset(item)\n",
    "\n",
    "\n",
    "def all_subsets(lst):\n",
    "    \"\"\"\n",
    "    na vstupu dostane seznam a vytvori\n",
    "    z nej vytvori seznam, \n",
    "    odpovidajici mnozine vsech podmnozin\n",
    "    \"\"\"\n",
    "    if len(lst) == 1: #pokud ma seznam delku 1 (rekurzivni zarazka)\n",
    "        return [lst] #vraceni prvniho a jedineho prvku seznamu\n",
    "\n",
    "    subsets = all_subsets(lst[:-1]) #rekurzivni volani funkce, s listem, ktery ma o jeden prvek mene\n",
    "\n",
    "    subsets.append([lst[-1]]) #pridani prvku, ktery chybel v predchozim volani\n",
    "\n",
    "    for sub in subsets[:(len(subsets)-1)]: #tento prvek se postupne pripeni ke vsem prvkum mimo sama sebe\n",
    "        if sub != []: # a mimo prvek na zacatku\n",
    "            subsets.append(sub+[lst[-1]]) #pripevneni prvku\n",
    "\n",
    "    #(pocet mnozin - 1 == delka pole mnozin)\n",
    "    if (2 ** len(lst) - 1) == len(subsets): #pri zpracovani dvou prvku se na zacatek seznamu pripne prazdna mnozina\n",
    "        subsets.insert(0, []) #vlozeni prazdne mnoziny\n",
    "\n",
    "    return subsets\n",
    "\n",
    "\n",
    "def all_subsets_excl_empty(*arguments, exclude_empty = True):\n",
    "    \"\"\"\n",
    "    docstring\n",
    "    \"\"\"\n",
    "    print(arguments)\n",
    "    lst = []\n",
    "    if len(arguments) > 0:\n",
    "        for arg in arguments:\n",
    "            lst.append(arg)\n",
    "            \n",
    "    if len(lst) == 1: #pokud ma seznam delku 1 (rekurzivni zarazka)\n",
    "        return [lst] #vraceni prvniho a jedineho prvku seznamu\n",
    "    print(lst)\n",
    "    \n",
    "    subsets = all_subsets_excl_empty(lst[:-1], exclude_empty = exclude_empty) #rekurzivni volani funkce, s listem, ktery ma o jeden prvek mene\n",
    "\n",
    "    subsets.append([lst[-1]]) #pridani prvku, ktery chybel v predchozim volani\n",
    "\n",
    "    for sub in subsets[:(len(subsets)-1)]: #tento prvek se postupne pripeni ke vsem prvkum mimo sama sebe\n",
    "        if sub != []: # a mimo prvek na zacatku\n",
    "            subsets.append(sub+[lst[-1]]) #pripevneni prvku\n",
    "\n",
    "    #(pocet mnozin - 1 == delka pole mnozin)\n",
    "    if (2 ** len(lst) - 1) == len(subsets) and exclude_empty == False: #pri zpracovani dvou prvku se na zacatek seznamu pripne prazdna mnozina\n",
    "        subsets.insert(0, []) #vlozeni prazdne mnoziny\n",
    "\n",
    "    return subsets\n",
    "    \n",
    "    \n",
    "print(\"vysledek: \",all_subsets_excl_empty('a', 'b', 'c'))\n",
    "    \n",
    "    \n",
    "\n",
    "assert can_be_a_set_member_or_frozenset(1) == 1\n",
    "assert can_be_a_set_member_or_frozenset((1,2)) == (1,2)\n",
    "assert can_be_a_set_member_or_frozenset([1,2]) == frozenset([1,2])\n",
    "\n",
    "assert all_subsets(['a', 'b', 'c']) == [[], ['a'], ['b'], ['a', 'b'], ['c'], ['a', 'c'], ['b', 'c'], ['a', 'b', 'c']]\n",
    "    \n",
    "def test2():\n",
    "    assert all_subsets_excl_empty('a', 'b', 'c') == [['a'], ['b'], ['a', 'b'], ['c'], ['a', 'c'], ['b', 'c'], ['a', 'b', 'c']]\n",
    "    assert all_subsets_excl_empty('a', 'b', 'c', exclude_empty = True) == [['a'], ['b'], ['a', 'b'], ['c'], ['a', 'c'], ['b', 'c'], ['a', 'b', 'c']]\n",
    "    assert all_subsets_excl_empty('a', 'b', 'c', exclude_empty = False) == [[], ['a'], ['b'], ['a', 'b'], ['c'], ['a', 'c'], ['b', 'c'], ['a', 'b', 'c']]\n",
    "    "
   ]
  }
 ],
 "metadata": {
  "kernelspec": {
   "display_name": "Python 3",
   "language": "python",
   "name": "python3"
  },
  "language_info": {
   "codemirror_mode": {
    "name": "ipython",
    "version": 3
   },
   "file_extension": ".py",
   "mimetype": "text/x-python",
   "name": "python",
   "nbconvert_exporter": "python",
   "pygments_lexer": "ipython3",
   "version": "3.5.4"
  }
 },
 "nbformat": 4,
 "nbformat_minor": 2
}
